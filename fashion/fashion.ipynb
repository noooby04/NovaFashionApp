{
 "cells": [
  {
   "cell_type": "code",
   "execution_count": 8,
   "metadata": {},
   "outputs": [],
   "source": [
    "import numpy as np\n",
    "import pandas as pd\n",
    "from sklearn.tree import DecisionTreeClassifier\n",
    "from sklearn.model_selection import train_test_split\n",
    "from sklearn.metrics import classification_report,confusion_matrix\n",
    "from imblearn.under_sampling import RandomUnderSampler"
   ]
  },
  {
   "cell_type": "code",
   "execution_count": 12,
   "metadata": {},
   "outputs": [
    {
     "data": {
      "text/html": [
       "<div>\n",
       "<style scoped>\n",
       "    .dataframe tbody tr th:only-of-type {\n",
       "        vertical-align: middle;\n",
       "    }\n",
       "\n",
       "    .dataframe tbody tr th {\n",
       "        vertical-align: top;\n",
       "    }\n",
       "\n",
       "    .dataframe thead th {\n",
       "        text-align: right;\n",
       "    }\n",
       "</style>\n",
       "<table border=\"1\" class=\"dataframe\">\n",
       "  <thead>\n",
       "    <tr style=\"text-align: right;\">\n",
       "      <th></th>\n",
       "      <th>id</th>\n",
       "      <th>gender</th>\n",
       "      <th>masterCategory</th>\n",
       "      <th>subCategory</th>\n",
       "      <th>articleType</th>\n",
       "      <th>baseColour</th>\n",
       "      <th>season</th>\n",
       "      <th>year</th>\n",
       "      <th>usage</th>\n",
       "      <th>productDisplayName</th>\n",
       "    </tr>\n",
       "  </thead>\n",
       "  <tbody>\n",
       "    <tr>\n",
       "      <th>0</th>\n",
       "      <td>15970</td>\n",
       "      <td>Men</td>\n",
       "      <td>Apparel</td>\n",
       "      <td>Topwear</td>\n",
       "      <td>Shirts</td>\n",
       "      <td>Navy Blue</td>\n",
       "      <td>Fall</td>\n",
       "      <td>2011.0</td>\n",
       "      <td>Casual</td>\n",
       "      <td>Turtle Check Men Navy Blue Shirt</td>\n",
       "    </tr>\n",
       "    <tr>\n",
       "      <th>1</th>\n",
       "      <td>39386</td>\n",
       "      <td>Men</td>\n",
       "      <td>Apparel</td>\n",
       "      <td>Bottomwear</td>\n",
       "      <td>Jeans</td>\n",
       "      <td>Blue</td>\n",
       "      <td>Summer</td>\n",
       "      <td>2012.0</td>\n",
       "      <td>Casual</td>\n",
       "      <td>Peter England Men Party Blue Jeans</td>\n",
       "    </tr>\n",
       "    <tr>\n",
       "      <th>2</th>\n",
       "      <td>59263</td>\n",
       "      <td>Women</td>\n",
       "      <td>Accessories</td>\n",
       "      <td>Watches</td>\n",
       "      <td>Watches</td>\n",
       "      <td>Silver</td>\n",
       "      <td>Winter</td>\n",
       "      <td>2016.0</td>\n",
       "      <td>Casual</td>\n",
       "      <td>Titan Women Silver Watch</td>\n",
       "    </tr>\n",
       "    <tr>\n",
       "      <th>3</th>\n",
       "      <td>21379</td>\n",
       "      <td>Men</td>\n",
       "      <td>Apparel</td>\n",
       "      <td>Bottomwear</td>\n",
       "      <td>Track Pants</td>\n",
       "      <td>Black</td>\n",
       "      <td>Fall</td>\n",
       "      <td>2011.0</td>\n",
       "      <td>Casual</td>\n",
       "      <td>Manchester United Men Solid Black Track Pants</td>\n",
       "    </tr>\n",
       "    <tr>\n",
       "      <th>4</th>\n",
       "      <td>53759</td>\n",
       "      <td>Men</td>\n",
       "      <td>Apparel</td>\n",
       "      <td>Topwear</td>\n",
       "      <td>Tshirts</td>\n",
       "      <td>Grey</td>\n",
       "      <td>Summer</td>\n",
       "      <td>2012.0</td>\n",
       "      <td>Casual</td>\n",
       "      <td>Puma Men Grey T-shirt</td>\n",
       "    </tr>\n",
       "    <tr>\n",
       "      <th>5</th>\n",
       "      <td>1855</td>\n",
       "      <td>Men</td>\n",
       "      <td>Apparel</td>\n",
       "      <td>Topwear</td>\n",
       "      <td>Tshirts</td>\n",
       "      <td>Grey</td>\n",
       "      <td>Summer</td>\n",
       "      <td>2011.0</td>\n",
       "      <td>Casual</td>\n",
       "      <td>Inkfruit Mens Chain Reaction T-shirt</td>\n",
       "    </tr>\n",
       "    <tr>\n",
       "      <th>6</th>\n",
       "      <td>30805</td>\n",
       "      <td>Men</td>\n",
       "      <td>Apparel</td>\n",
       "      <td>Topwear</td>\n",
       "      <td>Shirts</td>\n",
       "      <td>Green</td>\n",
       "      <td>Summer</td>\n",
       "      <td>2012.0</td>\n",
       "      <td>Ethnic</td>\n",
       "      <td>Fabindia Men Striped Green Shirt</td>\n",
       "    </tr>\n",
       "    <tr>\n",
       "      <th>7</th>\n",
       "      <td>26960</td>\n",
       "      <td>Women</td>\n",
       "      <td>Apparel</td>\n",
       "      <td>Topwear</td>\n",
       "      <td>Shirts</td>\n",
       "      <td>Purple</td>\n",
       "      <td>Summer</td>\n",
       "      <td>2012.0</td>\n",
       "      <td>Casual</td>\n",
       "      <td>Jealous 21 Women Purple Shirt</td>\n",
       "    </tr>\n",
       "    <tr>\n",
       "      <th>8</th>\n",
       "      <td>29114</td>\n",
       "      <td>Men</td>\n",
       "      <td>Accessories</td>\n",
       "      <td>Socks</td>\n",
       "      <td>Socks</td>\n",
       "      <td>Navy Blue</td>\n",
       "      <td>Summer</td>\n",
       "      <td>2012.0</td>\n",
       "      <td>Casual</td>\n",
       "      <td>Puma Men Pack of 3 Socks</td>\n",
       "    </tr>\n",
       "    <tr>\n",
       "      <th>9</th>\n",
       "      <td>30039</td>\n",
       "      <td>Men</td>\n",
       "      <td>Accessories</td>\n",
       "      <td>Watches</td>\n",
       "      <td>Watches</td>\n",
       "      <td>Black</td>\n",
       "      <td>Winter</td>\n",
       "      <td>2016.0</td>\n",
       "      <td>Casual</td>\n",
       "      <td>Skagen Men Black Watch</td>\n",
       "    </tr>\n",
       "  </tbody>\n",
       "</table>\n",
       "</div>"
      ],
      "text/plain": [
       "      id gender masterCategory subCategory  articleType baseColour  season  \\\n",
       "0  15970    Men        Apparel     Topwear       Shirts  Navy Blue    Fall   \n",
       "1  39386    Men        Apparel  Bottomwear        Jeans       Blue  Summer   \n",
       "2  59263  Women    Accessories     Watches      Watches     Silver  Winter   \n",
       "3  21379    Men        Apparel  Bottomwear  Track Pants      Black    Fall   \n",
       "4  53759    Men        Apparel     Topwear      Tshirts       Grey  Summer   \n",
       "5   1855    Men        Apparel     Topwear      Tshirts       Grey  Summer   \n",
       "6  30805    Men        Apparel     Topwear       Shirts      Green  Summer   \n",
       "7  26960  Women        Apparel     Topwear       Shirts     Purple  Summer   \n",
       "8  29114    Men    Accessories       Socks        Socks  Navy Blue  Summer   \n",
       "9  30039    Men    Accessories     Watches      Watches      Black  Winter   \n",
       "\n",
       "     year   usage                             productDisplayName  \n",
       "0  2011.0  Casual               Turtle Check Men Navy Blue Shirt  \n",
       "1  2012.0  Casual             Peter England Men Party Blue Jeans  \n",
       "2  2016.0  Casual                       Titan Women Silver Watch  \n",
       "3  2011.0  Casual  Manchester United Men Solid Black Track Pants  \n",
       "4  2012.0  Casual                          Puma Men Grey T-shirt  \n",
       "5  2011.0  Casual           Inkfruit Mens Chain Reaction T-shirt  \n",
       "6  2012.0  Ethnic               Fabindia Men Striped Green Shirt  \n",
       "7  2012.0  Casual                  Jealous 21 Women Purple Shirt  \n",
       "8  2012.0  Casual                       Puma Men Pack of 3 Socks  \n",
       "9  2016.0  Casual                         Skagen Men Black Watch  "
      ]
     },
     "execution_count": 12,
     "metadata": {},
     "output_type": "execute_result"
    }
   ],
   "source": [
    "\n",
    "# Try reading the CSV file\n",
    "df = pd.read_csv('styles.csv')\n",
    "df.head(10)\n"
   ]
  },
  {
   "cell_type": "code",
   "execution_count": 13,
   "metadata": {},
   "outputs": [
    {
     "data": {
      "text/plain": [
       "id                      int64\n",
       "gender                 object\n",
       "masterCategory         object\n",
       "subCategory            object\n",
       "articleType            object\n",
       "baseColour             object\n",
       "season                 object\n",
       "year                  float64\n",
       "usage                  object\n",
       "productDisplayName     object\n",
       "dtype: object"
      ]
     },
     "execution_count": 13,
     "metadata": {},
     "output_type": "execute_result"
    }
   ],
   "source": [
    "df.dtypes\n"
   ]
  },
  {
   "cell_type": "code",
   "execution_count": 14,
   "metadata": {},
   "outputs": [
    {
     "data": {
      "text/plain": [
       "['id',\n",
       " 'gender',\n",
       " 'masterCategory',\n",
       " 'subCategory',\n",
       " 'articleType',\n",
       " 'baseColour',\n",
       " 'season',\n",
       " 'year',\n",
       " 'usage',\n",
       " 'productDisplayName']"
      ]
     },
     "execution_count": 14,
     "metadata": {},
     "output_type": "execute_result"
    }
   ],
   "source": [
    "headers = list(df)\n",
    "headers"
   ]
  },
  {
   "cell_type": "code",
   "execution_count": 26,
   "metadata": {},
   "outputs": [
    {
     "data": {
      "text/plain": [
       "usage       \n",
       "Casual          34414\n",
       "Sports           4025\n",
       "Ethnic           3208\n",
       "Formal           2359\n",
       "Smart Casual       67\n",
       "Party              29\n",
       "Travel             26\n",
       "Home                1\n",
       "Name: count, dtype: int64"
      ]
     },
     "execution_count": 26,
     "metadata": {},
     "output_type": "execute_result"
    }
   ],
   "source": [
    "df.value_counts(['usage'])      "
   ]
  },
  {
   "cell_type": "code",
   "execution_count": 32,
   "metadata": {},
   "outputs": [
    {
     "data": {
      "text/plain": [
       "masterCategory\n",
       "Apparel           21400\n",
       "Accessories       11289\n",
       "Footwear           9222\n",
       "Personal Care      2404\n",
       "Free Items          105\n",
       "Sporting Goods       25\n",
       "Home                  1\n",
       "Name: count, dtype: int64"
      ]
     },
     "execution_count": 32,
     "metadata": {},
     "output_type": "execute_result"
    }
   ],
   "source": [
    "df.value_counts(['masterCategory'])      "
   ]
  },
  {
   "cell_type": "code",
   "execution_count": 33,
   "metadata": {},
   "outputs": [
    {
     "data": {
      "text/plain": [
       "subCategory             \n",
       "Topwear                     15405\n",
       "Shoes                        7344\n",
       "Bags                         3055\n",
       "Bottomwear                   2694\n",
       "Watches                      2542\n",
       "Innerwear                    1808\n",
       "Jewellery                    1080\n",
       "Eyewear                      1073\n",
       "Fragrance                    1012\n",
       "Sandal                        963\n",
       "Wallets                       933\n",
       "Flip Flops                    915\n",
       "Belts                         811\n",
       "Socks                         698\n",
       "Lips                          527\n",
       "Dress                         478\n",
       "Loungewear and Nightwear      470\n",
       "Saree                         427\n",
       "Nails                         329\n",
       "Makeup                        307\n",
       "Headwear                      293\n",
       "Ties                          258\n",
       "Accessories                   143\n",
       "Scarves                       118\n",
       "Cufflinks                     108\n",
       "Apparel Set                   106\n",
       "Free Gifts                    104\n",
       "Stoles                         90\n",
       "Skin Care                      77\n",
       "Skin                           69\n",
       "Eyes                           43\n",
       "Mufflers                       38\n",
       "Shoe Accessories               24\n",
       "Sports Equipment               21\n",
       "Gloves                         20\n",
       "Hair                           19\n",
       "Bath and Body                  12\n",
       "Water Bottle                    7\n",
       "Perfumes                        6\n",
       "Umbrellas                       6\n",
       "Beauty Accessories              4\n",
       "Wristbands                      4\n",
       "Sports Accessories              3\n",
       "Vouchers                        1\n",
       "Home Furnishing                 1\n",
       "Name: count, dtype: int64"
      ]
     },
     "execution_count": 33,
     "metadata": {},
     "output_type": "execute_result"
    }
   ],
   "source": [
    "df.value_counts(['subCategory'])"
   ]
  },
  {
   "cell_type": "code",
   "execution_count": 37,
   "metadata": {},
   "outputs": [
    {
     "data": {
      "text/plain": [
       "44446"
      ]
     },
     "execution_count": 37,
     "metadata": {},
     "output_type": "execute_result"
    }
   ],
   "source": [
    "num_rows = len(df)\n",
    "num_rows\n"
   ]
  },
  {
   "cell_type": "code",
   "execution_count": 39,
   "metadata": {},
   "outputs": [
    {
     "data": {
      "text/plain": [
       "2222"
      ]
     },
     "execution_count": 39,
     "metadata": {},
     "output_type": "execute_result"
    }
   ],
   "source": [
    "# Calculate the number of rows you want to keep (half of the original)\n",
    "num_rows_to_keep = num_rows // 20\n",
    "\n",
    "# Randomly sample half of the rows\n",
    "df_fourth = df.sample(n=num_rows_to_keep, random_state=42)\n",
    "len(df_fourth)\n"
   ]
  },
  {
   "cell_type": "code",
   "execution_count": 40,
   "metadata": {},
   "outputs": [
    {
     "data": {
      "text/plain": [
       "id                      int64\n",
       "gender                 object\n",
       "masterCategory         object\n",
       "subCategory            object\n",
       "articleType            object\n",
       "baseColour             object\n",
       "season                 object\n",
       "year                  float64\n",
       "usage                  object\n",
       "productDisplayName     object\n",
       "dtype: object"
      ]
     },
     "execution_count": 40,
     "metadata": {},
     "output_type": "execute_result"
    }
   ],
   "source": [
    "df_fourth.dtypes\n"
   ]
  },
  {
   "cell_type": "code",
   "execution_count": 45,
   "metadata": {},
   "outputs": [
    {
     "data": {
      "text/plain": [
       "gender\n",
       "Men       1075\n",
       "Women      960\n",
       "Unisex     125\n",
       "Boys        33\n",
       "Girls       29\n",
       "Name: count, dtype: int64"
      ]
     },
     "execution_count": 45,
     "metadata": {},
     "output_type": "execute_result"
    }
   ],
   "source": [
    "df_fourth.value_counts(['gender'])"
   ]
  },
  {
   "cell_type": "code",
   "execution_count": 46,
   "metadata": {},
   "outputs": [
    {
     "data": {
      "text/plain": [
       "masterCategory\n",
       "Apparel           1068\n",
       "Accessories        555\n",
       "Footwear           470\n",
       "Personal Care      120\n",
       "Free Items           8\n",
       "Sporting Goods       1\n",
       "Name: count, dtype: int64"
      ]
     },
     "execution_count": 46,
     "metadata": {},
     "output_type": "execute_result"
    }
   ],
   "source": [
    "df_fourth.value_counts(['masterCategory'])      "
   ]
  },
  {
   "cell_type": "code",
   "execution_count": 47,
   "metadata": {},
   "outputs": [
    {
     "data": {
      "text/plain": [
       "subCategory             \n",
       "Topwear                     794\n",
       "Shoes                       377\n",
       "Bags                        156\n",
       "Watches                     140\n",
       "Bottomwear                  110\n",
       "Innerwear                    92\n",
       "Eyewear                      55\n",
       "Sandal                       52\n",
       "Jewellery                    45\n",
       "Fragrance                    44\n",
       "Wallets                      42\n",
       "Flip Flops                   41\n",
       "Socks                        33\n",
       "Belts                        28\n",
       "Lips                         27\n",
       "Loungewear and Nightwear     27\n",
       "Nails                        23\n",
       "Dress                        22\n",
       "Saree                        17\n",
       "Makeup                       17\n",
       "Ties                         13\n",
       "Headwear                     11\n",
       "Accessories                   9\n",
       "Free Gifts                    8\n",
       "Stoles                        8\n",
       "Scarves                       7\n",
       "Apparel Set                   6\n",
       "Skin Care                     4\n",
       "Mufflers                      3\n",
       "Skin                          3\n",
       "Eyes                          2\n",
       "Sports Accessories            2\n",
       "Cufflinks                     2\n",
       "Sports Equipment              1\n",
       "Gloves                        1\n",
       "Name: count, dtype: int64"
      ]
     },
     "execution_count": 47,
     "metadata": {},
     "output_type": "execute_result"
    }
   ],
   "source": [
    "df_fourth.value_counts(['subCategory'])"
   ]
  },
  {
   "cell_type": "code",
   "execution_count": 57,
   "metadata": {},
   "outputs": [
    {
     "data": {
      "text/plain": [
       "articleType           \n",
       "Tshirts                   358\n",
       "Shirts                    174\n",
       "Casual Shoes              149\n",
       "Watches                   140\n",
       "Kurtas                    106\n",
       "Sports Shoes               96\n",
       "Handbags                   90\n",
       "Tops                       90\n",
       "Heels                      64\n",
       "Sunglasses                 55\n",
       "Sandals                    51\n",
       "Briefs                     50\n",
       "Wallets                    42\n",
       "Formal Shoes               41\n",
       "Flip Flops                 41\n",
       "Backpacks                  35\n",
       "Socks                      33\n",
       "Belts                      28\n",
       "Perfume and Body Mist      28\n",
       "Bra                        26\n",
       "Flats                      26\n",
       "Trousers                   24\n",
       "Shorts                     23\n",
       "Nail Polish                23\n",
       "Dresses                    22\n",
       "Earrings                   17\n",
       "Sarees                     17\n",
       "Clutches                   17\n",
       "Jeans                      15\n",
       "Lipstick                   15\n",
       "Kurtis                     14\n",
       "Sweatshirts                13\n",
       "Ties                       13\n",
       "Deodorant                  13\n",
       "Track Pants                13\n",
       "Tunics                     13\n",
       "Sweaters                   11\n",
       "Nightdress                 11\n",
       "Necklace and Chains        10\n",
       "Caps                       10\n",
       "Jackets                     9\n",
       "Kajal and Eyeliner          9\n",
       "Capris                      9\n",
       "Innerwear Vests             8\n",
       "Skirts                      8\n",
       "Stoles                      8\n",
       "Leggings                    7\n",
       "Night suits                 7\n",
       "Lip Gloss                   7\n",
       "Scarves                     7\n",
       "Free Gifts                  7\n",
       "Messenger Bag               6\n",
       "Accessory Gift Set          6\n",
       "Jeggings                    5\n",
       "Lip Liner                   5\n",
       "Duffel Bag                  5\n",
       "Ring                        5\n",
       "Kurta Sets                  5\n",
       "Highlighter and Blush       5\n",
       "Bangle                      5\n",
       "Laptop Bag                  4\n",
       "Foundation and Primer       4\n",
       "Dupatta                     4\n",
       "Lounge Pants                3\n",
       "Boxers                      3\n",
       "Trunk                       3\n",
       "Face Moisturisers           3\n",
       "Patiala                     3\n",
       "Fragrance Gift Set          3\n",
       "Jewellery Set               3\n",
       "Mufflers                    3\n",
       "Pendant                     3\n",
       "Baby Dolls                  2\n",
       "Sunscreen                   2\n",
       "Bath Robe                   2\n",
       "Bracelet                    2\n",
       "Camisoles                   2\n",
       "Mobile Pouch                2\n",
       "Cufflinks                   2\n",
       "Wristbands                  2\n",
       "Sports Sandals              2\n",
       "Lounge Shorts               2\n",
       "Footballs                   1\n",
       "Face Wash and Cleanser      1\n",
       "Mask and Peel               1\n",
       "Key chain                   1\n",
       "Rain Jacket                 1\n",
       "Rompers                     1\n",
       "Compact                     1\n",
       "Tracksuits                  1\n",
       "Churidar                    1\n",
       "Salwar                      1\n",
       "Gloves                      1\n",
       "Hat                         1\n",
       "Swimwear                    1\n",
       "Name: count, dtype: int64"
      ]
     },
     "execution_count": 57,
     "metadata": {},
     "output_type": "execute_result"
    }
   ],
   "source": [
    "df_fourth.value_counts(['articleType'])\n",
    "\n",
    "# Set pandas display options to show all rows and columns\n",
    "pd.set_option('display.max_rows', None)\n",
    "pd.set_option('display.max_columns', None)\n",
    "\n",
    "# Display the value counts\n",
    "df_fourth.value_counts(['articleType'])\n"
   ]
  },
  {
   "cell_type": "code",
   "execution_count": 54,
   "metadata": {},
   "outputs": [
    {
     "data": {
      "text/plain": [
       "baseColour    \n",
       "Black             487\n",
       "White             294\n",
       "Blue              245\n",
       "Brown             157\n",
       "Grey              129\n",
       "Green             122\n",
       "Red               109\n",
       "Navy Blue         106\n",
       "Pink               99\n",
       "Purple             77\n",
       "Silver             46\n",
       "Yellow             37\n",
       "Beige              36\n",
       "Gold               31\n",
       "Orange             30\n",
       "Maroon             25\n",
       "Olive              17\n",
       "Multi              17\n",
       "Cream              17\n",
       "Off White          15\n",
       "Peach              12\n",
       "Steel              12\n",
       "Lavender           11\n",
       "Khaki              10\n",
       "Tan                 8\n",
       "Charcoal            8\n",
       "Grey Melange        8\n",
       "Rust                7\n",
       "Magenta             5\n",
       "Skin                5\n",
       "Nude                4\n",
       "Teal                4\n",
       "Burgundy            4\n",
       "Metallic            4\n",
       "Copper              4\n",
       "Mustard             4\n",
       "Rose                3\n",
       "Turquoise Blue      3\n",
       "Bronze              3\n",
       "Taupe               2\n",
       "Sea Green           1\n",
       "Mushroom Brown      1\n",
       "Coffee Brown        1\n",
       "Lime Green          1\n",
       "Name: count, dtype: int64"
      ]
     },
     "execution_count": 54,
     "metadata": {},
     "output_type": "execute_result"
    }
   ],
   "source": [
    "df_fourth.value_counts(['baseColour'])"
   ]
  },
  {
   "cell_type": "code",
   "execution_count": 50,
   "metadata": {},
   "outputs": [
    {
     "data": {
      "text/plain": [
       "season\n",
       "Summer    1039\n",
       "Fall       587\n",
       "Winter     440\n",
       "Spring     154\n",
       "Name: count, dtype: int64"
      ]
     },
     "execution_count": 50,
     "metadata": {},
     "output_type": "execute_result"
    }
   ],
   "source": [
    "df_fourth.value_counts(['season'])"
   ]
  },
  {
   "cell_type": "code",
   "execution_count": 51,
   "metadata": {},
   "outputs": [
    {
     "data": {
      "text/plain": [
       "year  \n",
       "2012.0    788\n",
       "2011.0    701\n",
       "2016.0    324\n",
       "2017.0    150\n",
       "2015.0    120\n",
       "2013.0     49\n",
       "2010.0     41\n",
       "2014.0     24\n",
       "2018.0     23\n",
       "2009.0      2\n",
       "Name: count, dtype: int64"
      ]
     },
     "execution_count": 51,
     "metadata": {},
     "output_type": "execute_result"
    }
   ],
   "source": [
    "df_fourth.value_counts(['year'])"
   ]
  },
  {
   "cell_type": "code",
   "execution_count": 52,
   "metadata": {},
   "outputs": [
    {
     "data": {
      "text/plain": [
       "usage       \n",
       "Casual          1730\n",
       "Sports           192\n",
       "Ethnic           168\n",
       "Formal           109\n",
       "Party              3\n",
       "Travel             2\n",
       "Smart Casual       1\n",
       "Name: count, dtype: int64"
      ]
     },
     "execution_count": 52,
     "metadata": {},
     "output_type": "execute_result"
    }
   ],
   "source": [
    "df_fourth.value_counts(['usage'])"
   ]
  },
  {
   "cell_type": "code",
   "execution_count": 53,
   "metadata": {},
   "outputs": [
    {
     "data": {
      "text/plain": [
       "productDisplayName                        \n",
       "Polaroid Men Sunglasses                       3\n",
       "Scullers Men Navy Blue Polo T-Shirts          3\n",
       "Franco Leone Men Formal Black Formal Shoes    3\n",
       "Span Women Green Kurta                        3\n",
       "Fastrack Men Black Dial Watch                 3\n",
       "                                             ..\n",
       "Flying Machine Men Printed Blue Tshirts       1\n",
       "Flying Machine Men FS Solid Brown Shirts      1\n",
       "Flying Machine Men Checks Grey Sweaters       1\n",
       "Flying Machine Men Check Brown Shirts         1\n",
       "iPanema Women Red Flip Flops                  1\n",
       "Name: count, Length: 2120, dtype: int64"
      ]
     },
     "execution_count": 53,
     "metadata": {},
     "output_type": "execute_result"
    }
   ],
   "source": [
    "df_fourth.value_counts(['productDisplayName'])"
   ]
  },
  {
   "cell_type": "code",
   "execution_count": 62,
   "metadata": {},
   "outputs": [
    {
     "data": {
      "text/html": [
       "<div>\n",
       "<style scoped>\n",
       "    .dataframe tbody tr th:only-of-type {\n",
       "        vertical-align: middle;\n",
       "    }\n",
       "\n",
       "    .dataframe tbody tr th {\n",
       "        vertical-align: top;\n",
       "    }\n",
       "\n",
       "    .dataframe thead th {\n",
       "        text-align: right;\n",
       "    }\n",
       "</style>\n",
       "<table border=\"1\" class=\"dataframe\">\n",
       "  <thead>\n",
       "    <tr style=\"text-align: right;\">\n",
       "      <th></th>\n",
       "      <th>id</th>\n",
       "      <th>gender</th>\n",
       "      <th>masterCategory</th>\n",
       "      <th>subCategory</th>\n",
       "      <th>articleType</th>\n",
       "      <th>baseColour</th>\n",
       "      <th>season</th>\n",
       "      <th>year</th>\n",
       "      <th>usage</th>\n",
       "      <th>productDisplayName</th>\n",
       "      <th>price</th>\n",
       "    </tr>\n",
       "  </thead>\n",
       "  <tbody>\n",
       "    <tr>\n",
       "      <th>29660</th>\n",
       "      <td>40435</td>\n",
       "      <td>Women</td>\n",
       "      <td>Apparel</td>\n",
       "      <td>Topwear</td>\n",
       "      <td>Tops</td>\n",
       "      <td>White</td>\n",
       "      <td>Summer</td>\n",
       "      <td>2012.0</td>\n",
       "      <td>Casual</td>\n",
       "      <td>Tonga Women Multi Colored Top</td>\n",
       "      <td>860.90</td>\n",
       "    </tr>\n",
       "    <tr>\n",
       "      <th>16781</th>\n",
       "      <td>18612</td>\n",
       "      <td>Men</td>\n",
       "      <td>Apparel</td>\n",
       "      <td>Topwear</td>\n",
       "      <td>Tshirts</td>\n",
       "      <td>Black</td>\n",
       "      <td>Fall</td>\n",
       "      <td>2011.0</td>\n",
       "      <td>Sports</td>\n",
       "      <td>Puma Men Team SS Black Tshirts</td>\n",
       "      <td>1206.90</td>\n",
       "    </tr>\n",
       "    <tr>\n",
       "      <th>18553</th>\n",
       "      <td>21998</td>\n",
       "      <td>Women</td>\n",
       "      <td>Accessories</td>\n",
       "      <td>Bags</td>\n",
       "      <td>Handbags</td>\n",
       "      <td>Blue</td>\n",
       "      <td>Winter</td>\n",
       "      <td>2015.0</td>\n",
       "      <td>Casual</td>\n",
       "      <td>Murcia Women Casual Blue Handbag</td>\n",
       "      <td>985.25</td>\n",
       "    </tr>\n",
       "    <tr>\n",
       "      <th>10192</th>\n",
       "      <td>25235</td>\n",
       "      <td>Women</td>\n",
       "      <td>Accessories</td>\n",
       "      <td>Bags</td>\n",
       "      <td>Backpacks</td>\n",
       "      <td>Blue</td>\n",
       "      <td>Winter</td>\n",
       "      <td>2015.0</td>\n",
       "      <td>Casual</td>\n",
       "      <td>Lino Perros Women Blue Backpacks</td>\n",
       "      <td>2203.75</td>\n",
       "    </tr>\n",
       "    <tr>\n",
       "      <th>11749</th>\n",
       "      <td>8078</td>\n",
       "      <td>Men</td>\n",
       "      <td>Footwear</td>\n",
       "      <td>Sandal</td>\n",
       "      <td>Sandals</td>\n",
       "      <td>Blue</td>\n",
       "      <td>Fall</td>\n",
       "      <td>2011.0</td>\n",
       "      <td>Casual</td>\n",
       "      <td>ADIDAS Men Zeitfrei Slide Sc Blue Sandals</td>\n",
       "      <td>35.25</td>\n",
       "    </tr>\n",
       "    <tr>\n",
       "      <th>43836</th>\n",
       "      <td>45029</td>\n",
       "      <td>Men</td>\n",
       "      <td>Accessories</td>\n",
       "      <td>Watches</td>\n",
       "      <td>Watches</td>\n",
       "      <td>Black</td>\n",
       "      <td>Winter</td>\n",
       "      <td>2016.0</td>\n",
       "      <td>Casual</td>\n",
       "      <td>Maxima Men Black Digital Watch</td>\n",
       "      <td>1558.49</td>\n",
       "    </tr>\n",
       "    <tr>\n",
       "      <th>34140</th>\n",
       "      <td>52323</td>\n",
       "      <td>Women</td>\n",
       "      <td>Accessories</td>\n",
       "      <td>Jewellery</td>\n",
       "      <td>Bangle</td>\n",
       "      <td>White</td>\n",
       "      <td>Winter</td>\n",
       "      <td>2016.0</td>\n",
       "      <td>Casual</td>\n",
       "      <td>ToniQ Women Off White Bangle</td>\n",
       "      <td>2221.99</td>\n",
       "    </tr>\n",
       "    <tr>\n",
       "      <th>37730</th>\n",
       "      <td>18991</td>\n",
       "      <td>Men</td>\n",
       "      <td>Apparel</td>\n",
       "      <td>Topwear</td>\n",
       "      <td>Tshirts</td>\n",
       "      <td>Black</td>\n",
       "      <td>Summer</td>\n",
       "      <td>2011.0</td>\n",
       "      <td>Casual</td>\n",
       "      <td>ADIDAS Originals Men Grinball Black Tshirt</td>\n",
       "      <td>983.75</td>\n",
       "    </tr>\n",
       "    <tr>\n",
       "      <th>36215</th>\n",
       "      <td>7066</td>\n",
       "      <td>Unisex</td>\n",
       "      <td>Accessories</td>\n",
       "      <td>Bags</td>\n",
       "      <td>Backpacks</td>\n",
       "      <td>Black</td>\n",
       "      <td>Summer</td>\n",
       "      <td>2011.0</td>\n",
       "      <td>Sports</td>\n",
       "      <td>Nike Unisex Team Training Black Blue Backpack</td>\n",
       "      <td>10.90</td>\n",
       "    </tr>\n",
       "    <tr>\n",
       "      <th>31124</th>\n",
       "      <td>56161</td>\n",
       "      <td>Women</td>\n",
       "      <td>Personal Care</td>\n",
       "      <td>Eyes</td>\n",
       "      <td>Kajal and Eyeliner</td>\n",
       "      <td>Brown</td>\n",
       "      <td>Spring</td>\n",
       "      <td>2017.0</td>\n",
       "      <td>Casual</td>\n",
       "      <td>Colorbar I-Glide Cocobar Eye Pencil 02</td>\n",
       "      <td>2300.75</td>\n",
       "    </tr>\n",
       "  </tbody>\n",
       "</table>\n",
       "</div>"
      ],
      "text/plain": [
       "          id  gender masterCategory subCategory         articleType  \\\n",
       "29660  40435   Women        Apparel     Topwear                Tops   \n",
       "16781  18612     Men        Apparel     Topwear             Tshirts   \n",
       "18553  21998   Women    Accessories        Bags            Handbags   \n",
       "10192  25235   Women    Accessories        Bags           Backpacks   \n",
       "11749   8078     Men       Footwear      Sandal             Sandals   \n",
       "43836  45029     Men    Accessories     Watches             Watches   \n",
       "34140  52323   Women    Accessories   Jewellery              Bangle   \n",
       "37730  18991     Men        Apparel     Topwear             Tshirts   \n",
       "36215   7066  Unisex    Accessories        Bags           Backpacks   \n",
       "31124  56161   Women  Personal Care        Eyes  Kajal and Eyeliner   \n",
       "\n",
       "      baseColour  season    year   usage  \\\n",
       "29660      White  Summer  2012.0  Casual   \n",
       "16781      Black    Fall  2011.0  Sports   \n",
       "18553       Blue  Winter  2015.0  Casual   \n",
       "10192       Blue  Winter  2015.0  Casual   \n",
       "11749       Blue    Fall  2011.0  Casual   \n",
       "43836      Black  Winter  2016.0  Casual   \n",
       "34140      White  Winter  2016.0  Casual   \n",
       "37730      Black  Summer  2011.0  Casual   \n",
       "36215      Black  Summer  2011.0  Sports   \n",
       "31124      Brown  Spring  2017.0  Casual   \n",
       "\n",
       "                                  productDisplayName    price  \n",
       "29660                  Tonga Women Multi Colored Top   860.90  \n",
       "16781                 Puma Men Team SS Black Tshirts  1206.90  \n",
       "18553               Murcia Women Casual Blue Handbag   985.25  \n",
       "10192               Lino Perros Women Blue Backpacks  2203.75  \n",
       "11749      ADIDAS Men Zeitfrei Slide Sc Blue Sandals    35.25  \n",
       "43836                 Maxima Men Black Digital Watch  1558.49  \n",
       "34140                   ToniQ Women Off White Bangle  2221.99  \n",
       "37730     ADIDAS Originals Men Grinball Black Tshirt   983.75  \n",
       "36215  Nike Unisex Team Training Black Blue Backpack    10.90  \n",
       "31124         Colorbar I-Glide Cocobar Eye Pencil 02  2300.75  "
      ]
     },
     "execution_count": 62,
     "metadata": {},
     "output_type": "execute_result"
    }
   ],
   "source": [
    "def generate_random_price():\n",
    "    # Choose a random base price within a realistic range (500 to 3000)\n",
    "    base_price = np.random.randint(5, 3001) + np.random.choice([0, 0.99, 0.49, 0.95, 0.75, 0.25, 0.5, 0.9, 0.85])\n",
    "    # Round to 2 decimal places\n",
    "    return round(base_price, 2)\n",
    "\n",
    "# Add a new column 'price' with random prices\n",
    "df_fourth['price'] = [generate_random_price() for _ in range(len(df_fourth))]\n",
    "\n",
    "# Display the DataFrame\n",
    "df_fourth.head(10)"
   ]
  },
  {
   "cell_type": "code",
   "execution_count": 63,
   "metadata": {},
   "outputs": [],
   "source": [
    "df_fourth.to_csv('price.csv')\n"
   ]
  },
  {
   "cell_type": "code",
   "execution_count": 71,
   "metadata": {},
   "outputs": [],
   "source": [
    "import pandas as pd\n",
    "\n",
    "# Read the two CSV files into pandas DataFrames\n",
    "df1 = pd.read_csv(\"styles.csv\")\n",
    "df2 = pd.read_csv(\"price.csv\")\n",
    "\n",
    "# Merge the two DataFrames on the common id column\n",
    "merged_df = pd.merge(df1, df2, on='id', how='inner')\n",
    "\n",
    "# Create a new column in the merged DataFrame containing the URLs from df2\n",
    "merged_df['url'] = merged_df['link']\n",
    "\n",
    "# Drop unnecessary columns\n",
    "merged_df.drop(['link'], axis=1, inplace=True)\n",
    "\n",
    "# Write the merged DataFrame to a new CSV file\n",
    "merged_df.to_csv(\"merged_file.csv\", index=False)\n"
   ]
  }
 ],
 "metadata": {
  "kernelspec": {
   "display_name": "Python 3",
   "language": "python",
   "name": "python3"
  },
  "language_info": {
   "codemirror_mode": {
    "name": "ipython",
    "version": 3
   },
   "file_extension": ".py",
   "mimetype": "text/x-python",
   "name": "python",
   "nbconvert_exporter": "python",
   "pygments_lexer": "ipython3",
   "version": "3.12.3"
  }
 },
 "nbformat": 4,
 "nbformat_minor": 2
}
